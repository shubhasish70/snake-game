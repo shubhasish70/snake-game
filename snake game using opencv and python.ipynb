{
 "cells": [
  {
   "cell_type": "code",
   "execution_count": 71,
   "metadata": {
    "collapsed": true
   },
   "outputs": [],
   "source": [
    "import numpy as np\n",
    "import cv2\n",
    "import keyboard\n",
    "from pygame.time import Clock\n",
    "from random import randint"
   ]
  },
  {
   "cell_type": "code",
   "execution_count": 72,
   "metadata": {
    "collapsed": true
   },
   "outputs": [],
   "source": [
    "\n",
    "rows = 500\n",
    "cols = 500\n",
    "nrows = 25\n",
    "ncols = 25\n",
    "w = int(cols/ncols) \n",
    "h = int(rows/nrows)\n",
    "white = (255,255,255)\n",
    "black = (0,0,0)\n",
    "red = (0,0,255)\n",
    "blue = (255,0,0)\n",
    "speed  =w\n",
    "FPS = 10\n",
    "lose = False\n",
    "font = cv2.FONT_HERSHEY_SIMPLEX\n",
    "clock = Clock()"
   ]
  },
  {
   "cell_type": "code",
   "execution_count": 73,
   "metadata": {
    "collapsed": true
   },
   "outputs": [],
   "source": [
    "field = np.zeros((rows,cols,3),np.uint8)\n",
    "def draw(field,i,j,color):\n",
    "    cv2.rectangle(field,(j,i),(j+w,i+h),color,-1)"
   ]
  },
  {
   "cell_type": "code",
   "execution_count": 74,
   "metadata": {
    "collapsed": true
   },
   "outputs": [],
   "source": [
    "class snake:\n",
    "    \n",
    "    def __init__(self):\n",
    "        self.x = 0  # speed in x direction\n",
    "        self.y = speed # speed in y direction\n",
    "        self.length = 4   # snake length\n",
    "        self.snak = [] # arry to keep track of snake coordinates\n",
    "        for i in range(self.length-1,-1,-1):\n",
    "            self.snak.append([i*h,0*w])  # [x,y]\n",
    "        for i in range(len(self.snak)):\n",
    "            draw(field,self.snak[i][0],self.snak[i][1],white)\n",
    "        \n",
    "    def update(self):\n",
    "        global lose\n",
    "        if keyboard.is_pressed('w') and [self.snak[0][0]-speed,self.snak[0][1]] != self.snak[1]:\n",
    "            self.y = -speed\n",
    "            self.x = 0\n",
    "        elif keyboard.is_pressed('a') and [self.snak[0][0],self.snak[0][1]-speed] != self.snak[1]:\n",
    "            self.x = -speed\n",
    "            self.y = 0\n",
    "        elif keyboard.is_pressed('d') and [self.snak[0][0],self.snak[0][1]+speed] != self.snak[1]:\n",
    "            self.x = speed\n",
    "            self.y = 0\n",
    "        elif keyboard.is_pressed('s') and [self.snak[0][0]+speed,self.snak[0][1]] != self.snak[1]:\n",
    "            self.x = 0\n",
    "            self.y = speed\n",
    "        \n",
    "        for i in range(len(self.snak)-1,-1,-1):\n",
    "            draw(field,self.snak[i][0],self.snak[i][1],black)\n",
    "        for i in range(len(self.snak)-1,0,-1):   # shift snake array\n",
    "            self.snak[i] = self.snak[i-1]\n",
    "            \n",
    "        self.snak[0] = [self.snak[0][0] + self.y, self.snak[0][1] + self.x] # update snake head\n",
    "        if self.snak[0] in self.snak[1:] or self.snak[0][1] < 0 or self.snak[0][1] > rows or self.snak[0][0] < 0 or self.snak[0][0] > cols:\n",
    "            lose = True\n",
    "            \n",
    "            \n",
    "        \n",
    "        for i in range(len(self.snak)-1,0,-1):\n",
    "            draw(field,self.snak[i][0],self.snak[i][1],white)\n",
    "        draw(field,self.snak[0][0],self.snak[0][1],red)\n",
    "        \n",
    "    \n",
    "    def food(self):\n",
    "        \n",
    "        self._i = randint(0,ncols-1)*w\n",
    "        self._j = randint(0,nrows-1)*h\n",
    "        while [self._i,self._j] in self.snak:\n",
    "            self._i = randint(0,ncols-1)*w\n",
    "            self._j = randint(0,nrows-1)*h\n",
    "        draw(field,self._i,self._j,blue)\n",
    "    \n",
    "    def eat(self):\n",
    "        d = np.sqrt((self.snak[0][0]-self._i)**2 + (self.snak[0][1]-self._j)**2)\n",
    "        if d ==0:\n",
    "            draw(field,self._i,self._j,black)\n",
    "            self.new_head()\n",
    "            self.food()\n",
    "            \n",
    "    def new_head(self):\n",
    "        self.snak = [[self._i,self._j]]+ self.snak\n",
    "        return\n",
    "    \n",
    "            "
   ]
  },
  {
   "cell_type": "code",
   "execution_count": 75,
   "metadata": {
    "collapsed": true
   },
   "outputs": [],
   "source": [
    "snake = snake()\n",
    "snake.food()\n",
    "while lose ==False:\n",
    "    clock.tick(FPS)\n",
    "    snake.update()\n",
    "    snake.eat()\n",
    "    if cv2.waitKey(1) == ord('q'):\n",
    "        break\n",
    "    cv2.imshow('Snake Game',field)\n",
    "cv2.putText(field,'You Lose',(int(rows/2)-100,int(cols/2)), font, 2,white,4,cv2.LINE_AA)\n",
    "cv2.imshow('Snake Game',field)\n",
    "while True and lose == True:\n",
    "    if cv2.waitKey(1) == ord('q'):\n",
    "        break\n",
    "\n",
    "cv2.destroyAllWindows()\n",
    "\n"
   ]
  }
 ],
 "metadata": {
  "kernelspec": {
   "display_name": "Python 3",
   "language": "python",
   "name": "python3"
  },
  "language_info": {
   "codemirror_mode": {
    "name": "ipython",
    "version": 3
   },
   "file_extension": ".py",
   "mimetype": "text/x-python",
   "name": "python",
   "nbconvert_exporter": "python",
   "pygments_lexer": "ipython3",
   "version": "3.6.3"
  }
 },
 "nbformat": 4,
 "nbformat_minor": 2
}
